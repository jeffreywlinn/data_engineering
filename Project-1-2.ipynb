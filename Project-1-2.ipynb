{
 "cells": [
  {
   "cell_type": "code",
   "execution_count": 2,
   "metadata": {},
   "outputs": [],
   "source": [
    "import pandas as pd\n",
    "import csv\n",
    "\n",
    "# Bronze to Silver"
   ]
  },
  {
   "cell_type": "code",
   "execution_count": 2,
   "metadata": {},
   "outputs": [],
   "source": [
    "# CargoDesc2018 table cleaning\n",
    "# Establish file paths to Silver level\n",
    "# Drop irrelevant columns and those with NULL\n",
    "\n",
    "cargodesc_2018 = r'C:\\Users\\linnj\\Desktop\\SkillStorm\\Projects\\Project-1\\Shipping Data\\S3Layer=Silver\\Year=2018\\ams__cargodesc_2018__202001290000.csv'\n",
    "cargo2018 = pd.read_csv(cargodesc_2018, delimiter=',')\n",
    "cargo2018.drop('piece_count',axis=1,inplace=True)\n",
    "cargo2018.drop('description_sequence_number',axis=1,inplace=True)\n",
    "cargo2018.dropna(subset=['identifier'], inplace = True)\n",
    "cargo2018.dropna(subset=['container_number'], inplace = True)\n",
    "cargo2018['description_text'].fillna(\"Empty\", inplace=True)\n",
    "\n",
    "# Initial cleaning of Cargo 2018 to CSV\n",
    "\n",
    "cargo2018.to_csv(r'C:\\Users\\linnj\\Desktop\\SkillStorm\\Projects\\Project-1\\Shipping Data\\S3Layer=Silver\\Year=2018\\clean-cargo-2018.csv')"
   ]
  },
  {
   "cell_type": "code",
   "execution_count": 4,
   "metadata": {},
   "outputs": [],
   "source": [
    "# Hazmat 2018 table cleaning\n",
    "# Establish file paths to Silver level\n",
    "# Drop irrelevant columns and those with NULL\n",
    "\n",
    "hazmat_2018 = r'C:\\Users\\linnj\\Desktop\\SkillStorm\\Projects\\Project-1\\Shipping Data\\S3Layer=Silver\\Year=2018\\ams__hazmat_2018__202001290000.csv'\n",
    "hazmat2018 = pd.read_csv(hazmat_2018, delimiter=',')\n",
    "hazmat2018.drop('hazmat_sequence_number', axis=1, inplace = True)\n",
    "hazmat2018.drop('hazmat_contact', axis=1, inplace = True)\n",
    "hazmat2018.drop('hazmat_page_number', axis=1, inplace = True)\n",
    "hazmat2018.drop('hazmat_flash_point_temperature', axis=1, inplace = True)\n",
    "hazmat2018.drop('hazmat_flash_point_temperature_negative_ind', axis=1, inplace = True)\n",
    "hazmat2018.drop('hazmat_flash_point_temperature_unit', axis=1, inplace = True)\n",
    "hazmat2018.dropna(subset=['identifier'], inplace = True)\n",
    "hazmat2018.dropna(subset=['container_number'], inplace = True)\n",
    "hazmat2018['hazmat_description'].fillna(\"Empty\", inplace=True)\n",
    "hazmat2018['hazmat_code'] = hazmat2018['hazmat_code'].astype('str')\n",
    "hazmat2018['hazmat_code'].fillna(\"Empty\", inplace=True)\n",
    "hazmat2018['hazmat_class'].fillna(\"Empty\", inplace=True)\n",
    "hazmat2018['hazmat_code_qualifier'].fillna(\"Empty\", inplace=True)\n",
    "\n",
    "# Initial cleaning of Hazmat 2018 to CSV\n",
    "\n",
    "hazmat2018.to_csv(r'C:\\Users\\linnj\\Desktop\\SkillStorm\\Projects\\Project-1\\Shipping Data\\S3Layer=Silver\\Year=2018\\clean-hazmat-2018.csv')"
   ]
  },
  {
   "cell_type": "code",
   "execution_count": 7,
   "metadata": {},
   "outputs": [
    {
     "name": "stderr",
     "output_type": "stream",
     "text": [
      "C:\\Users\\linnj\\AppData\\Local\\Temp\\ipykernel_2436\\2612974850.py:4: DtypeWarning: Columns (26,27,28,29,30,31,32) have mixed types. Specify dtype option on import or set low_memory=False.\n",
      "  header2018 = pd.read_csv(header_2018, delimiter=',')\n"
     ]
    }
   ],
   "source": [
    "# Header 2018 table cleaning\n",
    "# Establish file paths to Silver level\n",
    "# Drop irrelevant columns and those with NULL\n",
    "\n",
    "header_2018 = r'C:\\Users\\linnj\\Desktop\\SkillStorm\\Projects\\Project-1\\Shipping Data\\S3Layer=Silver\\Year=2018\\ams__header_2018__202001290000.csv'\n",
    "header2018 = pd.read_csv(header_2018, delimiter=',')\n",
    "header2018.drop(['carrier_code','vessel_name','port_of_unlading','vessel_country_code','foreign_port_of_lading_qualifier'], axis=1, inplace = True)\n",
    "header2018.drop(['foreign_port_of_lading','manifest_quantity','manifest_unit','secondary_notify_party_2','secondary_notify_party_3'], axis=1, inplace = True)\n",
    "header2018.drop(['secondary_notify_party_4','secondary_notify_party_5','secondary_notify_party_6','secondary_notify_party_7'], axis=1, inplace = True)\n",
    "header2018.drop(['secondary_notify_party_8','secondary_notify_party_9', 'secondary_notify_party_10','secondary_notify_party_1'], axis=1, inplace = True)\n",
    "header2018.drop(['weight','weight_unit','measurement','measurement_unit','record_status_indicator', 'place_of_receipt','port_of_destination'], axis=1, inplace = True)\n",
    "header2018.drop(['foreign_port_of_destination_qualifier', 'foreign_port_of_destination','conveyance_id_qualifier','conveyance_id','in_bond_entry_type','mode_of_transportation'], axis=1, inplace = True)\n",
    "header2018.dropna(subset=['identifier'], inplace = True)\n",
    "header2018['estimated_arrival_date'] = pd.to_datetime(header2018['estimated_arrival_date'])\n",
    "header2018['actual_arrival_date'] = pd.to_datetime(header2018['actual_arrival_date'])\n",
    "\n",
    "# Header 2018 to CSV\n",
    "\n",
    "header2018.to_csv(r'C:\\Users\\linnj\\Desktop\\SkillStorm\\Projects\\Project-1\\Shipping Data\\S3Layer=Silver\\Year=2018\\clean-header-2018.csv')\n"
   ]
  },
  {
   "cell_type": "code",
   "execution_count": 9,
   "metadata": {},
   "outputs": [],
   "source": [
    "# CargoDesc2019 table cleaning\n",
    "\n",
    "cargodesc_2019 = r'C:\\Users\\linnj\\Desktop\\SkillStorm\\Projects\\Project-1\\Shipping Data\\S3Layer=Silver\\Year=2019\\ams__cargodesc_2019__202001080000.csv'\n",
    "cargo2019 = pd.read_csv(cargodesc_2019, delimiter=',')\n",
    "cargo2019.drop('piece_count',axis=1,inplace=True)\n",
    "cargo2019.drop('description_sequence_number',axis=1,inplace=True)\n",
    "cargo2019.dropna(subset=['identifier'], inplace = True)\n",
    "cargo2019.dropna(subset=['container_number'], inplace = True)\n",
    "\n",
    "# Cargo 2019 to CSV\n",
    "\n",
    "cargo2019.to_csv(r'C:\\Users\\linnj\\Desktop\\SkillStorm\\Projects\\Project-1\\Shipping Data\\S3Layer=Silver\\Year=2019\\clean-cargo-2019.csv')"
   ]
  },
  {
   "cell_type": "code",
   "execution_count": 11,
   "metadata": {},
   "outputs": [],
   "source": [
    "# Hazmat 2019 table cleaning\n",
    "\n",
    "hazmat_2019 = r'C:\\Users\\linnj\\Desktop\\SkillStorm\\Projects\\Project-1\\Shipping Data\\S3Layer=Silver\\Year=2019\\ams__hazmat_2019__202001080000.csv'\n",
    "hazmat2019 = pd.read_csv(hazmat_2019, delimiter=',')\n",
    "hazmat2019.drop('hazmat_sequence_number', axis=1, inplace = True)\n",
    "hazmat2019.drop('hazmat_contact', axis=1, inplace = True)\n",
    "hazmat2019.drop('hazmat_page_number', axis=1, inplace = True)\n",
    "hazmat2019.drop('hazmat_flash_point_temperature', axis=1, inplace = True)\n",
    "hazmat2019.drop('hazmat_flash_point_temperature_negative_ind', axis=1, inplace = True)\n",
    "hazmat2019.drop('hazmat_flash_point_temperature_unit', axis=1, inplace = True)\n",
    "hazmat2019.dropna(subset=['identifier'], inplace = True)\n",
    "hazmat2019.dropna(subset=['container_number'], inplace = True)\n",
    "hazmat2019['hazmat_description'].fillna(\"Empty\", inplace=True)\n",
    "hazmat2019['hazmat_code'] = hazmat2019['hazmat_code'].astype('str')\n",
    "hazmat2019['hazmat_code'].fillna(\"Empty\", inplace=True)\n",
    "hazmat2019['hazmat_class'].fillna(\"Empty\", inplace=True)\n",
    "hazmat2019['hazmat_code_qualifier'].fillna(\"Empty\", inplace=True)\n",
    "\n",
    "# Hazmat 2019 to CSV\n",
    "\n",
    "hazmat2019.to_csv(r'C:\\Users\\linnj\\Desktop\\SkillStorm\\Projects\\Project-1\\Shipping Data\\S3Layer=Silver\\Year=2019\\clean-hazmat-2019.csv')"
   ]
  },
  {
   "cell_type": "code",
   "execution_count": 14,
   "metadata": {},
   "outputs": [
    {
     "name": "stderr",
     "output_type": "stream",
     "text": [
      "C:\\Users\\linnj\\AppData\\Local\\Temp\\ipykernel_2436\\64693004.py:2: DtypeWarning: Columns (25,26,27,28,29,30) have mixed types. Specify dtype option on import or set low_memory=False.\n",
      "  header2019 = pd.read_csv(header_2019, delimiter=',')\n"
     ]
    }
   ],
   "source": [
    "# Header 2019 table cleaning\n",
    "\n",
    "header_2019 = r'C:\\Users\\linnj\\Desktop\\SkillStorm\\Projects\\Project-1\\Shipping Data\\S3Layer=Silver\\Year=2019\\ams__header_2019__202001080000.csv'\n",
    "header2019 = pd.read_csv(header_2019, delimiter=',')\n",
    "header2019.drop(['carrier_code','vessel_name','port_of_unlading','vessel_country_code','foreign_port_of_lading_qualifier'], axis=1, inplace = True)\n",
    "header2019.drop(['foreign_port_of_lading','manifest_quantity','manifest_unit','secondary_notify_party_2','secondary_notify_party_3'], axis=1, inplace = True)\n",
    "header2019.drop(['secondary_notify_party_4','secondary_notify_party_5','secondary_notify_party_6','secondary_notify_party_7'], axis=1, inplace = True)\n",
    "header2019.drop(['secondary_notify_party_8','secondary_notify_party_9', 'secondary_notify_party_10','secondary_notify_party_1'], axis=1, inplace = True)\n",
    "header2019.drop(['weight','weight_unit','measurement','measurement_unit','record_status_indicator', 'place_of_receipt','port_of_destination'], axis=1, inplace = True)\n",
    "header2019.drop(['foreign_port_of_destination_qualifier', 'foreign_port_of_destination','conveyance_id_qualifier','conveyance_id','in_bond_entry_type','mode_of_transportation'], axis=1, inplace = True)\n",
    "header2019.dropna(subset=['identifier'], inplace = True)\n",
    "header2019['estimated_arrival_date'] = pd.to_datetime(header2019['estimated_arrival_date'])\n",
    "header2019['actual_arrival_date'] = pd.to_datetime(header2019['actual_arrival_date'])\n",
    "\n",
    "# Header 2019 to CSV\n",
    "\n",
    "header2019.to_csv(r'C:\\Users\\linnj\\Desktop\\SkillStorm\\Projects\\Project-1\\Shipping Data\\S3Layer=Silver\\Year=2019\\clean-header-2019.csv')"
   ]
  },
  {
   "cell_type": "code",
   "execution_count": 3,
   "metadata": {},
   "outputs": [],
   "source": [
    "# CargoDesc2020 table cleaning\n",
    "\n",
    "cargodesc_2020 = r'C:\\Users\\linnj\\Desktop\\SkillStorm\\Projects\\Project-1\\Shipping Data\\S3Layer=Silver\\Year=2020\\ams__cargodesc_2020__202009291500.csv'\n",
    "cargo2020 = pd.read_csv(cargodesc_2020, delimiter=',')\n",
    "cargo2020.drop('piece_count',axis=1,inplace=True)\n",
    "cargo2020.dropna(subset=['identifier'], inplace = True)\n",
    "cargo2020.dropna(subset=['container_number'], inplace = True)\n",
    "\n",
    "# Cargo 2020 to CSV\n",
    "\n",
    "cargo2020.to_csv(r'C:\\Users\\linnj\\Desktop\\SkillStorm\\Projects\\Project-1\\Shipping Data\\S3Layer=Silver\\Year=2020\\clean-cargo-2020.csv')"
   ]
  },
  {
   "cell_type": "code",
   "execution_count": 5,
   "metadata": {},
   "outputs": [],
   "source": [
    "# Hazmat 2020 table cleaning\n",
    "\n",
    "hazmat_2020 = r'C:\\Users\\linnj\\Desktop\\SkillStorm\\Projects\\Project-1\\Shipping Data\\S3Layer=Silver\\Year=2020\\ams__hazmat_2020__202009291500.csv'\n",
    "hazmat2020 = pd.read_csv(hazmat_2020, delimiter=',')\n",
    "hazmat2020.drop('hazmat_sequence_number', axis=1, inplace = True)\n",
    "hazmat2020.drop('hazmat_contact', axis=1, inplace = True)\n",
    "hazmat2020.drop('hazmat_page_number', axis=1, inplace = True)\n",
    "hazmat2020.drop('hazmat_flash_point_temperature', axis=1, inplace = True)\n",
    "hazmat2020.drop('hazmat_flash_point_temperature_negative_ind', axis=1, inplace = True)\n",
    "hazmat2020.drop('hazmat_flash_point_temperature_unit', axis=1, inplace = True)\n",
    "hazmat2020.dropna(subset=['identifier'], inplace = True)\n",
    "hazmat2020.dropna(subset=['container_number'], inplace = True)\n",
    "hazmat2020['hazmat_description'].fillna(\"Empty\", inplace=True)\n",
    "hazmat2020['hazmat_code'] = hazmat2020['hazmat_code'].astype('str')\n",
    "hazmat2020['hazmat_code'].fillna(\"Empty\", inplace=True)\n",
    "hazmat2020['hazmat_class'].fillna(\"Empty\", inplace=True)\n",
    "hazmat2020['hazmat_code_qualifier'].fillna(\"Empty\", inplace=True)\n",
    "\n",
    "# Hazmat2020 to CSV\n",
    "\n",
    "hazmat2020.to_csv(r'C:\\Users\\linnj\\Desktop\\SkillStorm\\Projects\\Project-1\\Shipping Data\\S3Layer=Silver\\Year=2020\\clean-hazmat-2020.csv')"
   ]
  },
  {
   "cell_type": "code",
   "execution_count": 8,
   "metadata": {},
   "outputs": [
    {
     "name": "stderr",
     "output_type": "stream",
     "text": [
      "C:\\Users\\linnj\\AppData\\Local\\Temp\\ipykernel_10892\\1658760733.py:4: DtypeWarning: Columns (13,16,17,18,21,24,25,26,27,28) have mixed types. Specify dtype option on import or set low_memory=False.\n",
      "  header2020 = pd.read_csv(header_2020, delimiter=',')\n"
     ]
    }
   ],
   "source": [
    "# Header 2020 table cleaning\n",
    "\n",
    "header_2020 = r'C:\\Users\\linnj\\Desktop\\SkillStorm\\Projects\\Project-1\\Shipping Data\\S3Layer=Silver\\Year=2020\\ams__header_2020__202009291500.csv'\n",
    "header2020 = pd.read_csv(header_2020, delimiter=',')\n",
    "header2020.drop(['carrier_code','vessel_name','port_of_unlading','vessel_country_code','foreign_port_of_lading_qualifier'], axis=1, inplace = True)\n",
    "header2020.drop(['foreign_port_of_lading','manifest_quantity','manifest_unit','secondary_notify_party_2','secondary_notify_party_3'], axis=1, inplace = True)\n",
    "header2020.drop(['secondary_notify_party_4','secondary_notify_party_5','secondary_notify_party_6','secondary_notify_party_7'], axis=1, inplace = True)\n",
    "header2020.drop(['secondary_notify_party_8','secondary_notify_party_9', 'secondary_notify_party_10','secondary_notify_party_1'], axis=1, inplace = True)\n",
    "header2020.drop(['weight','weight_unit','measurement','measurement_unit','record_status_indicator', 'place_of_receipt','port_of_destination'], axis=1, inplace = True)\n",
    "header2020.drop(['foreign_port_of_destination_qualifier', 'foreign_port_of_destination','conveyance_id_qualifier','conveyance_id','in_bond_entry_type','mode_of_transportation'], axis=1, inplace = True)\n",
    "header2020.dropna(subset=['identifier'], inplace = True)\n",
    "header2020['estimated_arrival_date'] = pd.to_datetime(header2020['estimated_arrival_date'])\n",
    "header2020['actual_arrival_date'] = pd.to_datetime(header2020['actual_arrival_date'])\n",
    "\n",
    "# Header 2020 to CSV\n",
    "\n",
    "header2020.to_csv(r'C:\\Users\\linnj\\Desktop\\SkillStorm\\Projects\\Project-1\\Shipping Data\\S3Layer=Silver\\Year=2020\\clean-header-2020.csv')"
   ]
  }
 ],
 "metadata": {
  "kernelspec": {
   "display_name": "Python 3.9.12 ('base')",
   "language": "python",
   "name": "python3"
  },
  "language_info": {
   "codemirror_mode": {
    "name": "ipython",
    "version": 3
   },
   "file_extension": ".py",
   "mimetype": "text/x-python",
   "name": "python",
   "nbconvert_exporter": "python",
   "pygments_lexer": "ipython3",
   "version": "3.9.12"
  },
  "orig_nbformat": 4,
  "vscode": {
   "interpreter": {
    "hash": "8d44d4d280b2672a04015a3b06427e26188d8e97f28e5e9c8beac89671a800ff"
   }
  }
 },
 "nbformat": 4,
 "nbformat_minor": 2
}
