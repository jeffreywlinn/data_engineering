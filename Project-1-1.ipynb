{
 "cells": [
  {
   "cell_type": "code",
   "execution_count": null,
   "metadata": {},
   "outputs": [],
   "source": [
    "import pandas as pd\n",
    "import numpy as np\n",
    "import csv"
   ]
  },
  {
   "cell_type": "code",
   "execution_count": null,
   "metadata": {},
   "outputs": [],
   "source": [
    "# All 2018 CSV raw shipping files, Bronze Layer\n",
    "\n",
    "billgen_2018 = r'C:\\Users\\linnj\\Desktop\\SkillStorm\\Projects\\Project-1\\Shipping Data\\S3Layer=Silver\\2018\\ams__billgen_2018__202001290000.csv'\n",
    "cargodesc_2018 = r'C:\\Users\\linnj\\Desktop\\SkillStorm\\Projects\\Project-1\\Shipping Data\\S3Layer=Silver\\2018\\ams__cargodesc_2018__202001290000.csv'\n",
    "consignee_2018 = r'C:\\Users\\linnj\\Desktop\\SkillStorm\\Projects\\Project-1\\Shipping Data\\S3Layer=Silver\\2018\\ams__consignee_2018__202001290000.csv'\n",
    "container_2018 = r'C:\\Users\\linnj\\Desktop\\SkillStorm\\Projects\\Project-1\\Shipping Data\\S3Layer=Silver\\2018\\ams__container_2018__202001290000.csv'\n",
    "hazmat_2018 = r'C:\\Users\\linnj\\Desktop\\SkillStorm\\Projects\\Project-1\\Shipping Data\\S3Layer=Silver\\2018\\ams__hazmat_2018__202001290000.csv'\n",
    "hazmatclass_2018 = r'C:\\Users\\linnj\\Desktop\\SkillStorm\\Projects\\Project-1\\Shipping Data\\S3Layer=Silver\\2018\\ams__hazmatclass_2018__202001290000.csv'\n",
    "header_2018 = r'C:\\Users\\linnj\\Desktop\\SkillStorm\\Projects\\Project-1\\Shipping Data\\S3Layer=Silver\\2018\\ams__header_2018__202001290000.csv'\n",
    "marksnumbers_2018 = r'C:\\Users\\linnj\\Desktop\\SkillStorm\\Projects\\Project-1\\Shipping Data\\S3Layer=Silver\\2018\\ams__marksnumbers_2018__202001290000.csv'\n",
    "notifyparty_2018 = r'C:\\Users\\linnj\\Desktop\\SkillStorm\\Projects\\Project-1\\Shipping Data\\S3Layer=Silver\\2018\\ams__notifyparty_2018__202001290000.csv'\n",
    "shipper_2018 = r'C:\\Users\\linnj\\Desktop\\SkillStorm\\Projects\\Project-1\\Shipping Data\\S3Layer=Silver\\2018\\ams__shipper_2018__202001290000.csv'\n",
    "tariff_2018 = r'C:\\Users\\linnj\\Desktop\\SkillStorm\\Projects\\Project-1\\Shipping Data\\S3Layer=Silver\\2018\\ams__tariff_2018__202001290000.csv'\n"
   ]
  },
  {
   "cell_type": "code",
   "execution_count": null,
   "metadata": {},
   "outputs": [],
   "source": [
    "# Data Exploration of raw dataset 2018 \n",
    "\n",
    "path = billgen_2018\n",
    "csv = pd.read_csv(path)\n",
    "csv.info()"
   ]
  },
  {
   "cell_type": "code",
   "execution_count": null,
   "metadata": {},
   "outputs": [],
   "source": [
    "path = cargodesc_2018\n",
    "csv = pd.read_csv(path)\n",
    "\n",
    "csv.info()"
   ]
  },
  {
   "cell_type": "code",
   "execution_count": null,
   "metadata": {},
   "outputs": [],
   "source": [
    "path = consignee_2018\n",
    "csv = pd.read_csv(path)\n",
    "\n",
    "csv.info()"
   ]
  },
  {
   "cell_type": "code",
   "execution_count": null,
   "metadata": {},
   "outputs": [],
   "source": [
    "path = container_2018\n",
    "csv = pd.read_csv(path)\n",
    "\n",
    "csv.info()"
   ]
  },
  {
   "cell_type": "code",
   "execution_count": null,
   "metadata": {},
   "outputs": [],
   "source": [
    "path = hazmat_2018\n",
    "csv = pd.read_csv(path)\n",
    "\n",
    "csv.head(100).sort_values(by=['hazmat_contact'])"
   ]
  },
  {
   "cell_type": "code",
   "execution_count": null,
   "metadata": {},
   "outputs": [],
   "source": [
    "path = hazmatclass_2018\n",
    "csv = pd.read_csv(path)\n",
    "\n",
    "csv.info()"
   ]
  },
  {
   "cell_type": "code",
   "execution_count": null,
   "metadata": {},
   "outputs": [],
   "source": [
    "path = header_2018\n",
    "csv = pd.read_csv(path)\n",
    "\n",
    "csv.describe()"
   ]
  },
  {
   "cell_type": "code",
   "execution_count": null,
   "metadata": {},
   "outputs": [],
   "source": [
    "path = marksnumbers_2018\n",
    "csv = pd.read_csv(path)\n",
    "\n",
    "csv.info()"
   ]
  },
  {
   "cell_type": "code",
   "execution_count": null,
   "metadata": {},
   "outputs": [],
   "source": [
    "path = notifyparty_2018\n",
    "csv = pd.read_csv(path)\n",
    "\n",
    "csv.info()"
   ]
  },
  {
   "cell_type": "code",
   "execution_count": null,
   "metadata": {},
   "outputs": [],
   "source": [
    "path = shipper_2018\n",
    "csv = pd.read_csv(path)\n",
    "\n",
    "csv.info()"
   ]
  },
  {
   "cell_type": "code",
   "execution_count": null,
   "metadata": {},
   "outputs": [],
   "source": [
    "path = tariff_2018\n",
    "csv = pd.read_csv(path)\n",
    "\n",
    "csv.info()"
   ]
  }
 ],
 "metadata": {
  "kernelspec": {
   "display_name": "Python 3.9.12 ('base')",
   "language": "python",
   "name": "python3"
  },
  "language_info": {
   "codemirror_mode": {
    "name": "ipython",
    "version": 3
   },
   "file_extension": ".py",
   "mimetype": "text/x-python",
   "name": "python",
   "nbconvert_exporter": "python",
   "pygments_lexer": "ipython3",
   "version": "3.9.12"
  },
  "orig_nbformat": 4,
  "vscode": {
   "interpreter": {
    "hash": "8d44d4d280b2672a04015a3b06427e26188d8e97f28e5e9c8beac89671a800ff"
   }
  }
 },
 "nbformat": 4,
 "nbformat_minor": 2
}
