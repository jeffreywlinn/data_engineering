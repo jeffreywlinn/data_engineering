{
 "cells": [
  {
   "cell_type": "code",
   "execution_count": 2,
   "metadata": {},
   "outputs": [],
   "source": [
    "import pandas as pd\n",
    "import csv\n",
    "import psycopg2\n",
    "from sqlalchemy import create_engine\n",
    "import numpy as np\n",
    "\n",
    "\n",
    "# Silver to Gold"
   ]
  },
  {
   "cell_type": "code",
   "execution_count": 3,
   "metadata": {},
   "outputs": [],
   "source": [
    "#Final Cleaning from Silver to Aggregating for Gold 2018\n",
    "# Repeat for each year\n",
    "# Path to Silver Clean Files\n",
    "clean_header_2018 = r'C:\\Users\\linnj\\Desktop\\SkillStorm\\Projects\\Project-1\\Shipping Data\\S3Layer=Silver\\Year=2018\\clean-2018\\clean-header-2018.csv'\n",
    "clean_hazmat_2018 = r'C:\\Users\\linnj\\Desktop\\SkillStorm\\Projects\\Project-1\\Shipping Data\\S3Layer=Silver\\Year=2018\\clean-2018\\clean-hazmat-2018.csv'\n",
    "clean_cargo_2018 = r'C:\\Users\\linnj\\Desktop\\SkillStorm\\Projects\\Project-1\\Shipping Data\\S3Layer=Silver\\Year=2018\\clean-2018\\clean-cargo-2018.csv'\n",
    "\n",
    "# Assign dataframes to read files\n",
    "df1 = pd.read_csv(clean_header_2018, delimiter=',')\n",
    "df2 = pd.read_csv(clean_hazmat_2018, delimiter=',')\n",
    "df3 = pd.read_csv(clean_cargo_2018, delimiter=',')\n",
    "\n",
    "# Drop automatically generated column \n",
    "df1.drop('Unnamed: 0', axis=1, inplace=True)\n",
    "df2.drop('Unnamed: 0', axis=1, inplace=True)\n",
    "df3.drop('Unnamed: 0', axis=1, inplace=True)\n",
    "\n",
    "# Drop duplicate entries as safety check\n",
    "df1.drop_duplicates(['Identifier', 'Identifier_Year'], inplace=True)\n",
    "df2.drop_duplicates(['Identifier', 'Identifier_Year'], inplace=True)\n",
    "df3.drop_duplicates(['Identifier', 'Identifier_Year'], inplace=True)\n",
    "\n",
    "# Convert the Identifier year to float for Postgres readability\n",
    "df1['Identifier_Year'] = df1['Identifier_Year'].astype(float)\n",
    "df2['Identifier_Year'] = df1['Identifier_Year'].astype(float)\n",
    "df3['Identifier_Year'] = df1['Identifier_Year'].astype(float)\n",
    "\n",
    "# Aggregate tables and drop auto-generated duplicate columns\n",
    "df4 = pd.merge(df1, df2, on='Identifier', how='outer')\n",
    "df4.drop('Identifier_Year_y', axis=1, inplace=True)\n",
    "\n",
    "# Aggregate tables and drop auto-generated duplicate columns\n",
    "df6 = pd.merge(df2, df3, on='Identifier', how='outer')\n",
    "df6.drop('Container_Number_y', axis=1, inplace=True)\n",
    "df6.drop('Identifier_Year_y', axis=1, inplace=True)\n",
    "\n",
    "# Aggregate final tables and drop auto-generated duplicate columns\n",
    "df7 = pd.merge(df4, df6, on='Identifier', how='outer')\n",
    "df7.drop(['Hazmat_Description_y', 'Hazmat_Code_Qualifier_y', 'Hazmat_Class_y', 'Hazmat_Code_y'], axis=1, inplace=True)\n",
    "df7.drop('Container_Number_x', axis=1, inplace=True)\n",
    "df7.drop('Identifier_Year_x_y', axis=1, inplace=True)\n",
    "df7.rename(columns={\"Identifier_Year_x_x\": \"Identifier_Year\", \"Hazmat_Code_x\":\"Hazmat_Code\", \n",
    "\"Hazmat_Class_x\":\"Hazmat_Class\", \"Hazmat_Code_Qualifier_x\":\"Hazmat_Code_Qualifier\", \n",
    "\"Hazmat_Description_x\":\"Hazmat_Description\"}, inplace=True)\n",
    "\n",
    "# Convert date columns to dateTime to allow for column aggregation, Postgres readability,\n",
    "# and add column for difference between dates\n",
    "df7.columns = df7.columns.str.lower()\n",
    "df7['estimated_arrival_date'] = pd.to_datetime(df7['estimated_arrival_date'])\n",
    "df7['actual_arrival_date'] = pd.to_datetime(df7['actual_arrival_date'])\n",
    "df7['days_deviation'] = (df7['actual_arrival_date'] - df7['estimated_arrival_date']) / np.timedelta64(1, 'D')\n",
    "\n",
    "# Set file path for Gold 2018 file and send to csv\n",
    "gold_combined_2018 = r'C:\\Users\\linnj\\Desktop\\SkillStorm\\Projects\\Project-1\\Shipping Data\\S3Layer=Gold\\UseCase=Hazmat_Shipment_Time\\gold-combined-2018.csv'\n",
    "df7.to_csv(gold_combined_2018)"
   ]
  }
 ],
 "metadata": {
  "kernelspec": {
   "display_name": "Python 3.9.12 ('base')",
   "language": "python",
   "name": "python3"
  },
  "language_info": {
   "codemirror_mode": {
    "name": "ipython",
    "version": 3
   },
   "file_extension": ".py",
   "mimetype": "text/x-python",
   "name": "python",
   "nbconvert_exporter": "python",
   "pygments_lexer": "ipython3",
   "version": "3.9.12"
  },
  "orig_nbformat": 4,
  "vscode": {
   "interpreter": {
    "hash": "8d44d4d280b2672a04015a3b06427e26188d8e97f28e5e9c8beac89671a800ff"
   }
  }
 },
 "nbformat": 4,
 "nbformat_minor": 2
}
